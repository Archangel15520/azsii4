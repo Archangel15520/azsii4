{
  "cells": [
    {
      "cell_type": "markdown",
      "source": [
        "Практика 4: Атака DeepFool на модели ИИ\n",
        "\n",
        "Студент: Васильев Григорий Максимович\n",
        "\n",
        "Группа: ББМО-02-23\n",
        "\n",
        "Цель задания:\n",
        "\n",
        "Изучить атаку DeepFool, которая предназначена для минимальных изменений в изображениях с\n",
        "целью изменения их классификации. Научиться использовать эту атаку и исследовать влияние\n",
        "противоречивых примеров на обученные модели.\n",
        "Задачи:\n",
        "1. Загрузить ранее обученную модель на датасете MNIST.\n",
        "2. Изучить теоретические основы атаки DeepFool.\n",
        "3. Реализовать атаку DeepFool с помощью фреймворка Foolbox.\n",
        "4. Оценить точность модели на противоречивых примерах и сравнить с результатами на обычных\n",
        "данных.\n"
      ],
      "metadata": {
        "id": "tX8HnpAuIDpg"
      }
    },
    {
      "cell_type": "markdown",
      "source": [
        "Обученную модель 'mnist_model.h5' для загрузки в код можно найти в репозитории перейдя по ссылке:\n",
        "https://github.com/Archangel15520/AZSII-REPO/blob/main/README.md"
      ],
      "metadata": {
        "id": "6WPb1HR1aP6D"
      }
    },
    {
      "cell_type": "code",
      "source": [
        "# Установка необходимой библиотеки для реализации атак\n",
        "!pip install foolbox\n",
        "\n",
        "# Шаг 1: Загрузка модели и данных MNIST\n",
        "import tensorflow as tf\n",
        "from tensorflow.keras.datasets import mnist\n",
        "from tensorflow.keras.utils import to_categorical\n",
        "\n",
        "# Загрузка и подготовка данных\n",
        "(_, _), (images_test, labels_test) = mnist.load_data()\n",
        "images_test = images_test / 255.0  # Нормализация\n",
        "labels_test = to_categorical(labels_test, num_classes=10)\n",
        "\n",
        "# Загрузка модели\n",
        "model_trained = tf.keras.models.load_model('/content/mnist_model.h5')\n",
        "\n",
        "# Оценка модели на тестовых данных\n",
        "loss, accuracy = model_trained.evaluate(images_test, labels_test)\n",
        "print(f'Test accuracy on clean images: {accuracy}')\n",
        "\n",
        "# Шаг 2: Реализация атаки DeepFool с использованием Foolbox\n",
        "!pip install foolbox\n",
        "\n",
        "import foolbox as fb\n",
        "import numpy as np\n",
        "import matplotlib.pyplot as plt\n",
        "import tensorflow as tf  # Убедитесь, что TensorFlow импортирован\n",
        "\n",
        "# Инициализация модели в Foolbox\n",
        "foolbox_model = fb.TensorFlowModel(model_trained, bounds=(-1, 1))\n",
        "\n",
        "# Настройка DeepFool атаки\n",
        "deepfool_attack = fb.attacks.L2DeepFoolAttack(steps=100)\n",
        "\n",
        "# Количество изображений для атаки\n",
        "num_samples = 5\n",
        "\n",
        "# Настройка подграфиков для отображения изображений\n",
        "plt.figure(figsize=(15, 7))\n",
        "\n",
        "for index in range(num_samples):\n",
        "    # Выбор изображения для атаки\n",
        "    image_input = tf.convert_to_tensor(images_test[index], dtype=tf.float32)[None, ...]\n",
        "    true_label = np.argmax(labels_test[index])\n",
        "    true_label = tf.convert_to_tensor(true_label, dtype=tf.int64)\n",
        "\n",
        "    # Применение атаки\n",
        "    adv_image, _, is_success = deepfool_attack(foolbox_model, image_input, true_label[None], epsilons=0.01)\n",
        "\n",
        "    # Отображение оригинального и атакованного изображений\n",
        "    plt.subplot(2, num_samples, index + 1)\n",
        "    plt.title(f\"Оригинал {index+1}\")\n",
        "    plt.imshow(image_input[0].numpy(), cmap=\"gray\")\n",
        "    plt.axis('off')\n",
        "\n",
        "    plt.subplot(2, num_samples, num_samples + index + 1)\n",
        "    plt.title(f\"Атакованное изображение {index+1}\")\n",
        "    plt.imshow(adv_image[0].numpy(), cmap=\"gray\")\n",
        "    plt.axis('off')\n",
        "\n",
        "plt.tight_layout()\n",
        "plt.show()\n",
        "\n",
        "# Шаг 3: Оценка модели на атакованных изображениях\n",
        "adversarial_images_list = []\n",
        "\n",
        "for idx in range(len(images_test)):\n",
        "    image_input = tf.convert_to_tensor(images_test[idx], dtype=tf.float32)[None, ...]\n",
        "    true_label = np.argmax(labels_test[idx])\n",
        "    true_label = tf.convert_to_tensor(true_label, dtype=tf.int64)\n",
        "\n",
        "    adv_img, _, success_flag = deepfool_attack(foolbox_model, image_input, true_label[None], epsilons=0.01)\n",
        "    adversarial_images_list.append(adv_img)\n",
        "\n",
        "# Объединение атакованных изображений\n",
        "adversarial_images_tensor = tf.concat(adversarial_images_list, axis=0)\n",
        "\n",
        "# Оценка модели на атакованных примерах\n",
        "adversarial_loss, adversarial_accuracy = model_trained.evaluate(adversarial_images_tensor, labels_test)\n",
        "print(f'Accuracy on adversarial examples (DeepFool): {adversarial_accuracy}')\n"
      ],
      "metadata": {
        "colab": {
          "base_uri": "https://localhost:8080/",
          "height": 1000
        },
        "id": "GhjwKn_APdni",
        "outputId": "af972cad-e188-418f-f27e-f1c72851fe53"
      },
      "execution_count": null,
      "outputs": [
        {
          "output_type": "stream",
          "name": "stderr",
          "text": [
            "WARNING:absl:Compiled the loaded model, but the compiled metrics have yet to be built. `model.compile_metrics` will be empty until you train or evaluate the model.\n"
          ]
        },
        {
          "output_type": "stream",
          "name": "stdout",
          "text": [
            "\u001b[1m313/313\u001b[0m \u001b[32m━━━━━━━━━━━━━━━━━━━━\u001b[0m\u001b[37m\u001b[0m \u001b[1m1s\u001b[0m 3ms/step - accuracy: 0.9760 - loss: 0.0813\n",
            "Test accuracy on clean images: 0.9786999821662903\n",
            "Requirement already satisfied: foolbox in /usr/local/lib/python3.10/dist-packages (3.3.4)\n",
            "Requirement already satisfied: numpy in /usr/local/lib/python3.10/dist-packages (from foolbox) (1.26.4)\n",
            "Requirement already satisfied: scipy in /usr/local/lib/python3.10/dist-packages (from foolbox) (1.13.1)\n",
            "Requirement already satisfied: setuptools in /usr/local/lib/python3.10/dist-packages (from foolbox) (75.1.0)\n",
            "Requirement already satisfied: eagerpy>=0.30.0 in /usr/local/lib/python3.10/dist-packages (from foolbox) (0.30.0)\n",
            "Requirement already satisfied: GitPython>=3.0.7 in /usr/local/lib/python3.10/dist-packages (from foolbox) (3.1.43)\n",
            "Requirement already satisfied: typing-extensions>=3.7.4.1 in /usr/local/lib/python3.10/dist-packages (from foolbox) (4.12.2)\n",
            "Requirement already satisfied: requests>=2.24.0 in /usr/local/lib/python3.10/dist-packages (from foolbox) (2.32.3)\n",
            "Requirement already satisfied: gitdb<5,>=4.0.1 in /usr/local/lib/python3.10/dist-packages (from GitPython>=3.0.7->foolbox) (4.0.11)\n",
            "Requirement already satisfied: charset-normalizer<4,>=2 in /usr/local/lib/python3.10/dist-packages (from requests>=2.24.0->foolbox) (3.4.0)\n",
            "Requirement already satisfied: idna<4,>=2.5 in /usr/local/lib/python3.10/dist-packages (from requests>=2.24.0->foolbox) (3.10)\n",
            "Requirement already satisfied: urllib3<3,>=1.21.1 in /usr/local/lib/python3.10/dist-packages (from requests>=2.24.0->foolbox) (2.2.3)\n",
            "Requirement already satisfied: certifi>=2017.4.17 in /usr/local/lib/python3.10/dist-packages (from requests>=2.24.0->foolbox) (2024.8.30)\n",
            "Requirement already satisfied: smmap<6,>=3.0.1 in /usr/local/lib/python3.10/dist-packages (from gitdb<5,>=4.0.1->GitPython>=3.0.7->foolbox) (5.0.1)\n"
          ]
        },
        {
          "output_type": "display_data",
          "data": {
            "text/plain": [
              "<Figure size 1500x700 with 10 Axes>"
            ],
            "image/png": "[encoded data removed]"
          },
          "metadata": {}
        },
        {
          "output_type": "stream",
          "name": "stdout",
          "text": [
            "\u001b[1m313/313\u001b[0m \u001b[32m━━━━━━━━━━━━━━━━━━━━\u001b[0m\u001b[37m\u001b[0m \u001b[1m0s\u001b[0m 1ms/step - accuracy: 9.2820e-06 - loss: 124.5535\n",
            "Accuracy on adversarial examples (DeepFool): 9.999999747378752e-05\n"
          ]
        }
      ]
    },
    {
      "cell_type": "code",
      "source": [
        "# Шаг 4: Сравнение результатов\n",
        "import pandas as pd\n",
        "\n",
        "# Результаты из оценки модели\n",
        "accuracy_clean, loss_clean = model_trained.evaluate(images_test, labels_test)\n",
        "accuracy_adversarial, loss_adversarial = model_trained.evaluate(adversarial_images_tensor, labels_test)\n",
        "\n",
        "# Сравнение результатов в виде таблицы\n",
        "results = {\n",
        "    \"Метрика\": [\"Accuracy\", \"Loss\"],\n",
        "    \"Чистые изображения\": [accuracy_clean, loss_clean],\n",
        "    \"Атакованные изображения (DeepFool)\": [accuracy_adversarial, loss_adversarial]\n",
        "}\n",
        "\n",
        "# Создание DataFrame для удобного отображения\n",
        "df_results = pd.DataFrame(results)\n",
        "\n",
        "# Вывод таблицы\n",
        "print(\"\\nСравнение результатов:\")\n",
        "print(df_results)\n",
        "\n",
        "# Абзац с анализом, используя результаты из переменных\n",
        "# comparison_text = f\"\"\"\n",
        "# Результаты оценки модели на чистых и атакованных изображениях показывают существенное снижение точности\n",
        "# при применении атаки DeepFool. Для чистых изображений модель достигает точности {accuracy_clean:.4f},\n",
        "# что соответствует потере {loss_clean:.4f}. В то же время, после применения атаки точность модели резко падает до\n",
        "# {accuracy_adversarial:.4f}, а потеря значительно увеличивается до {loss_adversarial:.4f}.\n",
        "\n",
        "# Эти данные подтверждают, что атака DeepFool оказывает значительное влияние на производительность модели,\n",
        "# что является важным показателем для оценки её устойчивости к атакам. Важно отметить, что хотя точность на\n",
        "# чистых изображениях остается высокой, способность модели противостоять атакам остаётся ограниченной.\n",
        "# \"\"\"\n",
        "# print(comparison_text)\n"
      ],
      "metadata": {
        "colab": {
          "base_uri": "https://localhost:8080/"
        },
        "id": "kF6KCVaXX6ew",
        "outputId": "b3d9a541-83a9-46e1-b46b-c285530f2633"
      },
      "execution_count": null,
      "outputs": [
        {
          "output_type": "stream",
          "name": "stdout",
          "text": [
            "\u001b[1m313/313\u001b[0m \u001b[32m━━━━━━━━━━━━━━━━━━━━\u001b[0m\u001b[37m\u001b[0m \u001b[1m0s\u001b[0m 1ms/step - accuracy: 0.9760 - loss: 0.0813\n",
            "\u001b[1m313/313\u001b[0m \u001b[32m━━━━━━━━━━━━━━━━━━━━\u001b[0m\u001b[37m\u001b[0m \u001b[1m0s\u001b[0m 1ms/step - accuracy: 9.2820e-06 - loss: 124.5535\n",
            "\n",
            "Сравнение результатов:\n",
            "    Метрика  Чистые изображения  Атакованные изображения (DeepFool)\n",
            "0  Accuracy            0.072216                          130.089645\n",
            "1      Loss            0.978700                            0.000100\n"
          ]
        }
      ]
    },
    {
      "cell_type": "markdown",
      "source": [
        "Вывод:\n",
        "\n",
        "В ходе эксперимента были проведены две оценки точности модели: на обычных тестовых изображениях и на атакованных примерах, сгенерированных с помощью метода DeepFool.\n",
        "\n",
        "Для обычных тестовых изображений точность модели составила 97.87%, что свидетельствует о хорошем качестве работы модели на стандартных данных. Однако, когда модель была проверена на атакованных примерах, точность существенно снизилась до 0.0001%. Это демонстрирует высокую уязвимость модели к атакам типа DeepFool, которые значительно ухудшают её способность классифицировать изображения. Потери на атакованных данных также значительно возросли — с 0.0813 до 124.5535, что подчеркивает, как сильно модель теряет уверенность в своих предсказаниях при воздействии на неё adversarial примерами.\n",
        "\n",
        "Эти результаты подчеркивают необходимость улучшения устойчивости моделей машинного обучения к различным атакам, особенно в контексте реальных приложений, где противник может попытаться исказить входные данные."
      ],
      "metadata": {
        "id": "f_trg4iWWC48"
      }
    }
  ],
  "metadata": {
    "colab": {
      "provenance": []
    },
    "kernelspec": {
      "display_name": "Python 3",
      "name": "python3"
    },
    "language_info": {
      "name": "python"
    }
  },
  "nbformat": 4,
  "nbformat_minor": 0
}